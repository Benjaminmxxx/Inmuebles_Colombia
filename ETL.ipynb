{
 "cells": [
  {
   "cell_type": "code",
   "execution_count": 105,
   "metadata": {},
   "outputs": [],
   "source": [
    "import pandas as pd\n",
    "import numpy as np\n",
    "import matplotlib.pyplot as plt\n",
    "import seaborn as sns\n",
    "import locale\n"
   ]
  },
  {
   "cell_type": "code",
   "execution_count": 211,
   "metadata": {},
   "outputs": [],
   "source": [
    "df_inmuebles=pd.read_csv('./inmuebles_bogota.csv')"
   ]
  },
  {
   "cell_type": "markdown",
   "metadata": {},
   "source": [
    "#### Exploración Inicial del Dataset"
   ]
  },
  {
   "cell_type": "code",
   "execution_count": 212,
   "metadata": {},
   "outputs": [
    {
     "data": {
      "text/plain": [
       "(9520, 8)"
      ]
     },
     "execution_count": 212,
     "metadata": {},
     "output_type": "execute_result"
    }
   ],
   "source": [
    "#Ocho columnas con 9520 filas\n",
    "df_inmuebles.shape"
   ]
  },
  {
   "cell_type": "code",
   "execution_count": 213,
   "metadata": {},
   "outputs": [
    {
     "data": {
      "text/plain": [
       "Index(['Tipo', 'Descripcion', 'Habitaciones', 'Baños', 'Área', 'Barrio', 'UPZ',\n",
       "       'Valor'],\n",
       "      dtype='object')"
      ]
     },
     "execution_count": 213,
     "metadata": {},
     "output_type": "execute_result"
    }
   ],
   "source": [
    "df_inmuebles.columns"
   ]
  },
  {
   "cell_type": "code",
   "execution_count": 214,
   "metadata": {},
   "outputs": [
    {
     "data": {
      "text/html": [
       "<div>\n",
       "<style scoped>\n",
       "    .dataframe tbody tr th:only-of-type {\n",
       "        vertical-align: middle;\n",
       "    }\n",
       "\n",
       "    .dataframe tbody tr th {\n",
       "        vertical-align: top;\n",
       "    }\n",
       "\n",
       "    .dataframe thead th {\n",
       "        text-align: right;\n",
       "    }\n",
       "</style>\n",
       "<table border=\"1\" class=\"dataframe\">\n",
       "  <thead>\n",
       "    <tr style=\"text-align: right;\">\n",
       "      <th></th>\n",
       "      <th>Tipo</th>\n",
       "      <th>Descripcion</th>\n",
       "      <th>Habitaciones</th>\n",
       "      <th>Banos</th>\n",
       "      <th>Area</th>\n",
       "      <th>Barrio</th>\n",
       "      <th>UPZ</th>\n",
       "      <th>Precio</th>\n",
       "    </tr>\n",
       "  </thead>\n",
       "  <tbody>\n",
       "    <tr>\n",
       "      <th>4061</th>\n",
       "      <td>Apartamento</td>\n",
       "      <td>Apartamento en venta en Bosa</td>\n",
       "      <td>3</td>\n",
       "      <td>1</td>\n",
       "      <td>42</td>\n",
       "      <td>Bosa</td>\n",
       "      <td>Bosa Central</td>\n",
       "      <td>$ 131.000.000</td>\n",
       "    </tr>\n",
       "    <tr>\n",
       "      <th>2515</th>\n",
       "      <td>Casa</td>\n",
       "      <td>Casa en venta en Rafael Uribe Uribe</td>\n",
       "      <td>6</td>\n",
       "      <td>4</td>\n",
       "      <td>191</td>\n",
       "      <td>Rafael Uribe Uribe</td>\n",
       "      <td>Los Alcázares</td>\n",
       "      <td>$ 500.000.000</td>\n",
       "    </tr>\n",
       "    <tr>\n",
       "      <th>2105</th>\n",
       "      <td>Apartamento</td>\n",
       "      <td>Apartamento en venta en Santa Barbara</td>\n",
       "      <td>2</td>\n",
       "      <td>2</td>\n",
       "      <td>66</td>\n",
       "      <td>Santa Barbara</td>\n",
       "      <td>USAQUÉN: Country Club + Santa Bárbara</td>\n",
       "      <td>$ 430.000.000</td>\n",
       "    </tr>\n",
       "  </tbody>\n",
       "</table>\n",
       "</div>"
      ],
      "text/plain": [
       "             Tipo                            Descripcion  Habitaciones  Banos  \\\n",
       "4061  Apartamento           Apartamento en venta en Bosa             3      1   \n",
       "2515         Casa    Casa en venta en Rafael Uribe Uribe             6      4   \n",
       "2105  Apartamento  Apartamento en venta en Santa Barbara             2      2   \n",
       "\n",
       "      Area              Barrio                                    UPZ  \\\n",
       "4061    42                Bosa                           Bosa Central   \n",
       "2515   191  Rafael Uribe Uribe                          Los Alcázares   \n",
       "2105    66       Santa Barbara  USAQUÉN: Country Club + Santa Bárbara   \n",
       "\n",
       "             Precio  \n",
       "4061  $ 131.000.000  \n",
       "2515  $ 500.000.000  \n",
       "2105  $ 430.000.000  "
      ]
     },
     "execution_count": 214,
     "metadata": {},
     "output_type": "execute_result"
    }
   ],
   "source": [
    "#Cambio de nombres para facilitar los procesos siguientes.\n",
    "columnas={'Baños':'Banos','Área':'Area','Valor':'Precio'}\n",
    "df_inmuebles=df_inmuebles.rename(columns=columnas)\n",
    "df_inmuebles.sample(3)"
   ]
  },
  {
   "cell_type": "code",
   "execution_count": 215,
   "metadata": {},
   "outputs": [
    {
     "name": "stdout",
     "output_type": "stream",
     "text": [
      "<class 'pandas.core.frame.DataFrame'>\n",
      "RangeIndex: 9520 entries, 0 to 9519\n",
      "Data columns (total 8 columns):\n",
      " #   Column        Non-Null Count  Dtype \n",
      "---  ------        --------------  ----- \n",
      " 0   Tipo          9520 non-null   object\n",
      " 1   Descripcion   9520 non-null   object\n",
      " 2   Habitaciones  9520 non-null   int64 \n",
      " 3   Banos         9520 non-null   int64 \n",
      " 4   Area          9520 non-null   int64 \n",
      " 5   Barrio        9520 non-null   object\n",
      " 6   UPZ           9478 non-null   object\n",
      " 7   Precio        9520 non-null   object\n",
      "dtypes: int64(3), object(5)\n",
      "memory usage: 595.1+ KB\n"
     ]
    }
   ],
   "source": [
    "#Sola la columna UPZ tiene valores faltantes y el tipo de dato en Precio es erróneo. \n",
    "df_inmuebles.info()"
   ]
  },
  {
   "cell_type": "markdown",
   "metadata": {},
   "source": [
    "TRATAMIENTO DE DATOS"
   ]
  },
  {
   "cell_type": "markdown",
   "metadata": {},
   "source": [
    "Valores Faltantes en UPZ"
   ]
  },
  {
   "cell_type": "code",
   "execution_count": 216,
   "metadata": {},
   "outputs": [
    {
     "data": {
      "text/html": [
       "<div>\n",
       "<style scoped>\n",
       "    .dataframe tbody tr th:only-of-type {\n",
       "        vertical-align: middle;\n",
       "    }\n",
       "\n",
       "    .dataframe tbody tr th {\n",
       "        vertical-align: top;\n",
       "    }\n",
       "\n",
       "    .dataframe thead th {\n",
       "        text-align: right;\n",
       "    }\n",
       "</style>\n",
       "<table border=\"1\" class=\"dataframe\">\n",
       "  <thead>\n",
       "    <tr style=\"text-align: right;\">\n",
       "      <th></th>\n",
       "      <th>Tipo</th>\n",
       "      <th>Descripcion</th>\n",
       "      <th>Habitaciones</th>\n",
       "      <th>Banos</th>\n",
       "      <th>Area</th>\n",
       "      <th>Barrio</th>\n",
       "      <th>UPZ</th>\n",
       "      <th>Precio</th>\n",
       "    </tr>\n",
       "  </thead>\n",
       "  <tbody>\n",
       "    <tr>\n",
       "      <th>6058</th>\n",
       "      <td>Apartamento</td>\n",
       "      <td>Apartamento en venta en Pasadena</td>\n",
       "      <td>2</td>\n",
       "      <td>2</td>\n",
       "      <td>71</td>\n",
       "      <td>Pasadena</td>\n",
       "      <td>NaN</td>\n",
       "      <td>$ 360.000.000</td>\n",
       "    </tr>\n",
       "    <tr>\n",
       "      <th>9415</th>\n",
       "      <td>Casa</td>\n",
       "      <td>Casa en venta en Pasadena</td>\n",
       "      <td>6</td>\n",
       "      <td>4</td>\n",
       "      <td>220</td>\n",
       "      <td>Pasadena</td>\n",
       "      <td>NaN</td>\n",
       "      <td>$ 1.170.000.000</td>\n",
       "    </tr>\n",
       "  </tbody>\n",
       "</table>\n",
       "</div>"
      ],
      "text/plain": [
       "             Tipo                        Descripcion  Habitaciones  Banos  \\\n",
       "6058  Apartamento  Apartamento en venta en Pasadena              2      2   \n",
       "9415         Casa         Casa en venta en Pasadena              6      4   \n",
       "\n",
       "      Area     Barrio  UPZ           Precio  \n",
       "6058    71  Pasadena   NaN    $ 360.000.000  \n",
       "9415   220  Pasadena   NaN  $ 1.170.000.000  "
      ]
     },
     "execution_count": 216,
     "metadata": {},
     "output_type": "execute_result"
    }
   ],
   "source": [
    "#Todos los UPZ faltantes son del Barrio Pasadena\n",
    "df_inmuebles[ df_inmuebles['UPZ'].isnull()].sample(2)\n",
    "#Buscando se encuentra que Pasadena pertenece a la \"UPZ\" 27: \"La alhambra\""
   ]
  },
  {
   "cell_type": "code",
   "execution_count": 217,
   "metadata": {},
   "outputs": [
    {
     "data": {
      "text/html": [
       "<div>\n",
       "<style scoped>\n",
       "    .dataframe tbody tr th:only-of-type {\n",
       "        vertical-align: middle;\n",
       "    }\n",
       "\n",
       "    .dataframe tbody tr th {\n",
       "        vertical-align: top;\n",
       "    }\n",
       "\n",
       "    .dataframe thead th {\n",
       "        text-align: right;\n",
       "    }\n",
       "</style>\n",
       "<table border=\"1\" class=\"dataframe\">\n",
       "  <thead>\n",
       "    <tr style=\"text-align: right;\">\n",
       "      <th></th>\n",
       "      <th>Tipo</th>\n",
       "      <th>Descripcion</th>\n",
       "      <th>Habitaciones</th>\n",
       "      <th>Banos</th>\n",
       "      <th>Area</th>\n",
       "      <th>Barrio</th>\n",
       "      <th>UPZ</th>\n",
       "      <th>Precio</th>\n",
       "    </tr>\n",
       "  </thead>\n",
       "  <tbody>\n",
       "  </tbody>\n",
       "</table>\n",
       "</div>"
      ],
      "text/plain": [
       "Empty DataFrame\n",
       "Columns: [Tipo, Descripcion, Habitaciones, Banos, Area, Barrio, UPZ, Precio]\n",
       "Index: []"
      ]
     },
     "execution_count": 217,
     "metadata": {},
     "output_type": "execute_result"
    }
   ],
   "source": [
    "#Se verifico si algún registro con Barrio Pasadena tenía su UPZ.\n",
    "df_inmuebles[(df_inmuebles['Barrio'].str.strip() == 'Pasadena') & df_inmuebles['UPZ'].notnull()]"
   ]
  },
  {
   "cell_type": "code",
   "execution_count": 218,
   "metadata": {},
   "outputs": [],
   "source": [
    "#Inmutando Datos Faltantes en UPZ\n",
    "df_inmuebles['UPZ'].fillna('La Alhambra', inplace=True)"
   ]
  },
  {
   "cell_type": "code",
   "execution_count": 238,
   "metadata": {},
   "outputs": [
    {
     "data": {
      "text/plain": [
       "0"
      ]
     },
     "execution_count": 238,
     "metadata": {},
     "output_type": "execute_result"
    }
   ],
   "source": [
    "df_inmuebles['UPZ'].isnull().sum()"
   ]
  },
  {
   "cell_type": "markdown",
   "metadata": {},
   "source": [
    "Tratando columna Precio: el dato en la columna precio es de tipo \"object\" y debe ser un float, así como se quitara los caracteres especiales. "
   ]
  },
  {
   "cell_type": "code",
   "execution_count": 239,
   "metadata": {},
   "outputs": [],
   "source": [
    "df_inmuebles['Precio'] = df_inmuebles['Precio'].str.replace('[$,. ]', '', regex=True)"
   ]
  },
  {
   "cell_type": "code",
   "execution_count": 240,
   "metadata": {},
   "outputs": [
    {
     "data": {
      "text/html": [
       "<div>\n",
       "<style scoped>\n",
       "    .dataframe tbody tr th:only-of-type {\n",
       "        vertical-align: middle;\n",
       "    }\n",
       "\n",
       "    .dataframe tbody tr th {\n",
       "        vertical-align: top;\n",
       "    }\n",
       "\n",
       "    .dataframe thead th {\n",
       "        text-align: right;\n",
       "    }\n",
       "</style>\n",
       "<table border=\"1\" class=\"dataframe\">\n",
       "  <thead>\n",
       "    <tr style=\"text-align: right;\">\n",
       "      <th></th>\n",
       "      <th>Tipo</th>\n",
       "      <th>Descripcion</th>\n",
       "      <th>Habitaciones</th>\n",
       "      <th>Banos</th>\n",
       "      <th>Area</th>\n",
       "      <th>Barrio</th>\n",
       "      <th>UPZ</th>\n",
       "      <th>Precio</th>\n",
       "    </tr>\n",
       "  </thead>\n",
       "  <tbody>\n",
       "    <tr>\n",
       "      <th>0</th>\n",
       "      <td>Apartamento</td>\n",
       "      <td>Apartamento en venta en Zona Noroccidental</td>\n",
       "      <td>3</td>\n",
       "      <td>2</td>\n",
       "      <td>70</td>\n",
       "      <td>Zona Noroccidental</td>\n",
       "      <td>CHAPINERO: Pardo Rubio + Chapinero</td>\n",
       "      <td>360000000</td>\n",
       "    </tr>\n",
       "  </tbody>\n",
       "</table>\n",
       "</div>"
      ],
      "text/plain": [
       "          Tipo                                 Descripcion  Habitaciones  \\\n",
       "0  Apartamento  Apartamento en venta en Zona Noroccidental             3   \n",
       "\n",
       "   Banos  Area              Barrio                                 UPZ  \\\n",
       "0      2    70  Zona Noroccidental  CHAPINERO: Pardo Rubio + Chapinero   \n",
       "\n",
       "      Precio  \n",
       "0  360000000  "
      ]
     },
     "execution_count": 240,
     "metadata": {},
     "output_type": "execute_result"
    }
   ],
   "source": [
    "df_inmuebles.head(1)"
   ]
  },
  {
   "cell_type": "code",
   "execution_count": 241,
   "metadata": {},
   "outputs": [
    {
     "data": {
      "text/html": [
       "<div>\n",
       "<style scoped>\n",
       "    .dataframe tbody tr th:only-of-type {\n",
       "        vertical-align: middle;\n",
       "    }\n",
       "\n",
       "    .dataframe tbody tr th {\n",
       "        vertical-align: top;\n",
       "    }\n",
       "\n",
       "    .dataframe thead th {\n",
       "        text-align: right;\n",
       "    }\n",
       "</style>\n",
       "<table border=\"1\" class=\"dataframe\">\n",
       "  <thead>\n",
       "    <tr style=\"text-align: right;\">\n",
       "      <th></th>\n",
       "      <th>Tipo</th>\n",
       "      <th>Descripcion</th>\n",
       "      <th>Habitaciones</th>\n",
       "      <th>Banos</th>\n",
       "      <th>Area</th>\n",
       "      <th>Barrio</th>\n",
       "      <th>UPZ</th>\n",
       "      <th>Precio_Millon</th>\n",
       "    </tr>\n",
       "  </thead>\n",
       "  <tbody>\n",
       "    <tr>\n",
       "      <th>8639</th>\n",
       "      <td>Apartamento</td>\n",
       "      <td>Apartamento en venta en Zona Noroccidental</td>\n",
       "      <td>4</td>\n",
       "      <td>3</td>\n",
       "      <td>124</td>\n",
       "      <td>Zona Noroccidental</td>\n",
       "      <td>CHAPINERO: Pardo Rubio + Chapinero</td>\n",
       "      <td>400.00</td>\n",
       "    </tr>\n",
       "    <tr>\n",
       "      <th>3881</th>\n",
       "      <td>Apartamento</td>\n",
       "      <td>Apartamento en venta en Fontibón</td>\n",
       "      <td>3</td>\n",
       "      <td>2</td>\n",
       "      <td>55</td>\n",
       "      <td>Fontibón</td>\n",
       "      <td>Fontibón</td>\n",
       "      <td>173.50</td>\n",
       "    </tr>\n",
       "    <tr>\n",
       "      <th>7943</th>\n",
       "      <td>Casa</td>\n",
       "      <td>Casa en venta en Bosa</td>\n",
       "      <td>5</td>\n",
       "      <td>3</td>\n",
       "      <td>240</td>\n",
       "      <td>Bosa</td>\n",
       "      <td>Bosa Central</td>\n",
       "      <td>375.00</td>\n",
       "    </tr>\n",
       "  </tbody>\n",
       "</table>\n",
       "</div>"
      ],
      "text/plain": [
       "             Tipo                                 Descripcion  Habitaciones  \\\n",
       "8639  Apartamento  Apartamento en venta en Zona Noroccidental             4   \n",
       "3881  Apartamento            Apartamento en venta en Fontibón             3   \n",
       "7943         Casa                       Casa en venta en Bosa             5   \n",
       "\n",
       "      Banos  Area              Barrio                                 UPZ  \\\n",
       "8639      3   124  Zona Noroccidental  CHAPINERO: Pardo Rubio + Chapinero   \n",
       "3881      2    55            Fontibón                            Fontibón   \n",
       "7943      3   240                Bosa                        Bosa Central   \n",
       "\n",
       "      Precio_Millon  \n",
       "8639         400.00  \n",
       "3881         173.50  \n",
       "7943         375.00  "
      ]
     },
     "execution_count": 241,
     "metadata": {},
     "output_type": "execute_result"
    }
   ],
   "source": [
    "#Para un mejor manejo de datos se divide entre un millon al Precio. \n",
    "df_inmuebles['Precio_Millon'] = df_inmuebles['Precio'].astype(float)/1000000\n",
    "df_inmuebles=df_inmuebles.drop(columns='Precio')\n",
    "df_inmuebles.sample(3)"
   ]
  },
  {
   "cell_type": "markdown",
   "metadata": {},
   "source": [
    "Resumen estadístico de las columnas numéricas "
   ]
  },
  {
   "cell_type": "markdown",
   "metadata": {},
   "source": [
    "Se observan algunas discrepancias en los mínimos y máximos de las columnas: \n",
    "-Habitaciones\n",
    "-Baños\n",
    "-Area "
   ]
  },
  {
   "cell_type": "code",
   "execution_count": 242,
   "metadata": {},
   "outputs": [
    {
     "data": {
      "text/html": [
       "<div>\n",
       "<style scoped>\n",
       "    .dataframe tbody tr th:only-of-type {\n",
       "        vertical-align: middle;\n",
       "    }\n",
       "\n",
       "    .dataframe tbody tr th {\n",
       "        vertical-align: top;\n",
       "    }\n",
       "\n",
       "    .dataframe thead th {\n",
       "        text-align: right;\n",
       "    }\n",
       "</style>\n",
       "<table border=\"1\" class=\"dataframe\">\n",
       "  <thead>\n",
       "    <tr style=\"text-align: right;\">\n",
       "      <th></th>\n",
       "      <th>Habitaciones</th>\n",
       "      <th>Banos</th>\n",
       "      <th>Area</th>\n",
       "      <th>Precio_Millon</th>\n",
       "    </tr>\n",
       "  </thead>\n",
       "  <tbody>\n",
       "    <tr>\n",
       "      <th>count</th>\n",
       "      <td>9520.00</td>\n",
       "      <td>9520.00</td>\n",
       "      <td>9520.00</td>\n",
       "      <td>9520.00</td>\n",
       "    </tr>\n",
       "    <tr>\n",
       "      <th>mean</th>\n",
       "      <td>3.07</td>\n",
       "      <td>2.45</td>\n",
       "      <td>146.66</td>\n",
       "      <td>602.06</td>\n",
       "    </tr>\n",
       "    <tr>\n",
       "      <th>std</th>\n",
       "      <td>2.05</td>\n",
       "      <td>1.26</td>\n",
       "      <td>1731.38</td>\n",
       "      <td>704.60</td>\n",
       "    </tr>\n",
       "    <tr>\n",
       "      <th>min</th>\n",
       "      <td>1.00</td>\n",
       "      <td>0.00</td>\n",
       "      <td>2.00</td>\n",
       "      <td>60.00</td>\n",
       "    </tr>\n",
       "    <tr>\n",
       "      <th>25%</th>\n",
       "      <td>2.00</td>\n",
       "      <td>2.00</td>\n",
       "      <td>57.00</td>\n",
       "      <td>250.00</td>\n",
       "    </tr>\n",
       "    <tr>\n",
       "      <th>50%</th>\n",
       "      <td>3.00</td>\n",
       "      <td>2.00</td>\n",
       "      <td>80.00</td>\n",
       "      <td>409.18</td>\n",
       "    </tr>\n",
       "    <tr>\n",
       "      <th>75%</th>\n",
       "      <td>3.00</td>\n",
       "      <td>3.00</td>\n",
       "      <td>135.00</td>\n",
       "      <td>680.00</td>\n",
       "    </tr>\n",
       "    <tr>\n",
       "      <th>max</th>\n",
       "      <td>110.00</td>\n",
       "      <td>9.00</td>\n",
       "      <td>166243.00</td>\n",
       "      <td>16000.00</td>\n",
       "    </tr>\n",
       "  </tbody>\n",
       "</table>\n",
       "</div>"
      ],
      "text/plain": [
       "       Habitaciones   Banos      Area  Precio_Millon\n",
       "count       9520.00 9520.00   9520.00        9520.00\n",
       "mean           3.07    2.45    146.66         602.06\n",
       "std            2.05    1.26   1731.38         704.60\n",
       "min            1.00    0.00      2.00          60.00\n",
       "25%            2.00    2.00     57.00         250.00\n",
       "50%            3.00    2.00     80.00         409.18\n",
       "75%            3.00    3.00    135.00         680.00\n",
       "max          110.00    9.00 166243.00       16000.00"
      ]
     },
     "execution_count": 242,
     "metadata": {},
     "output_type": "execute_result"
    }
   ],
   "source": [
    "#Ajuste de decimales.\n",
    "pd.set_option('display.precision',2)\n",
    "pd.set_option('display.float_format',lambda x:'%.2f' % x)\n",
    "df_inmuebles.describe()"
   ]
  },
  {
   "cell_type": "markdown",
   "metadata": {},
   "source": [
    "Se entiende que el area da sentido al número de habitaciones y de Baños, por lo que se comenzara por estudiar el area. "
   ]
  },
  {
   "cell_type": "markdown",
   "metadata": {},
   "source": [
    "#### Area"
   ]
  },
  {
   "cell_type": "code",
   "execution_count": null,
   "metadata": {},
   "outputs": [],
   "source": []
  },
  {
   "cell_type": "code",
   "execution_count": 247,
   "metadata": {},
   "outputs": [
    {
     "data": {
      "text/html": [
       "<div>\n",
       "<style scoped>\n",
       "    .dataframe tbody tr th:only-of-type {\n",
       "        vertical-align: middle;\n",
       "    }\n",
       "\n",
       "    .dataframe tbody tr th {\n",
       "        vertical-align: top;\n",
       "    }\n",
       "\n",
       "    .dataframe thead th {\n",
       "        text-align: right;\n",
       "    }\n",
       "</style>\n",
       "<table border=\"1\" class=\"dataframe\">\n",
       "  <thead>\n",
       "    <tr style=\"text-align: right;\">\n",
       "      <th></th>\n",
       "      <th>Tipo</th>\n",
       "      <th>Descripcion</th>\n",
       "      <th>Habitaciones</th>\n",
       "      <th>Banos</th>\n",
       "      <th>Area</th>\n",
       "      <th>Barrio</th>\n",
       "      <th>UPZ</th>\n",
       "      <th>Precio_Millon</th>\n",
       "    </tr>\n",
       "  </thead>\n",
       "  <tbody>\n",
       "    <tr>\n",
       "      <th>37</th>\n",
       "      <td>Apartamento</td>\n",
       "      <td>Apartamento en venta en Zona Noroccidental</td>\n",
       "      <td>32</td>\n",
       "      <td>2</td>\n",
       "      <td>63</td>\n",
       "      <td>Zona Noroccidental</td>\n",
       "      <td>CHAPINERO: Pardo Rubio + Chapinero</td>\n",
       "      <td>290.50</td>\n",
       "    </tr>\n",
       "    <tr>\n",
       "      <th>67</th>\n",
       "      <td>Apartamento</td>\n",
       "      <td>Apartamento en venta en Zona Noroccidental</td>\n",
       "      <td>32</td>\n",
       "      <td>2</td>\n",
       "      <td>63</td>\n",
       "      <td>Zona Noroccidental</td>\n",
       "      <td>CHAPINERO: Pardo Rubio + Chapinero</td>\n",
       "      <td>290.50</td>\n",
       "    </tr>\n",
       "    <tr>\n",
       "      <th>146</th>\n",
       "      <td>Casa</td>\n",
       "      <td>Casa en venta en Usaquén</td>\n",
       "      <td>7</td>\n",
       "      <td>4</td>\n",
       "      <td>325</td>\n",
       "      <td>Usaquén</td>\n",
       "      <td>Usaquén</td>\n",
       "      <td>1650.00</td>\n",
       "    </tr>\n",
       "    <tr>\n",
       "      <th>152</th>\n",
       "      <td>Casa</td>\n",
       "      <td>Casa en venta en Usaquén</td>\n",
       "      <td>7</td>\n",
       "      <td>4</td>\n",
       "      <td>325</td>\n",
       "      <td>Usaquén</td>\n",
       "      <td>Usaquén</td>\n",
       "      <td>1650.00</td>\n",
       "    </tr>\n",
       "    <tr>\n",
       "      <th>239</th>\n",
       "      <td>Casa</td>\n",
       "      <td>Casa en venta en Kennedy</td>\n",
       "      <td>14</td>\n",
       "      <td>7</td>\n",
       "      <td>360</td>\n",
       "      <td>Kennedy</td>\n",
       "      <td>Kennedy Central</td>\n",
       "      <td>1290.00</td>\n",
       "    </tr>\n",
       "    <tr>\n",
       "      <th>...</th>\n",
       "      <td>...</td>\n",
       "      <td>...</td>\n",
       "      <td>...</td>\n",
       "      <td>...</td>\n",
       "      <td>...</td>\n",
       "      <td>...</td>\n",
       "      <td>...</td>\n",
       "      <td>...</td>\n",
       "    </tr>\n",
       "    <tr>\n",
       "      <th>9493</th>\n",
       "      <td>Casa</td>\n",
       "      <td>Casa en venta en Barrios Unidos</td>\n",
       "      <td>8</td>\n",
       "      <td>6</td>\n",
       "      <td>247</td>\n",
       "      <td>Barrios Unidos</td>\n",
       "      <td>Los Andes</td>\n",
       "      <td>690.00</td>\n",
       "    </tr>\n",
       "    <tr>\n",
       "      <th>9499</th>\n",
       "      <td>Casa</td>\n",
       "      <td>Casa en venta en Puente Aranda</td>\n",
       "      <td>7</td>\n",
       "      <td>3</td>\n",
       "      <td>295</td>\n",
       "      <td>Puente Aranda</td>\n",
       "      <td>PUENTE ARANDA: Zona Industrial + Puente Aranda</td>\n",
       "      <td>780.00</td>\n",
       "    </tr>\n",
       "    <tr>\n",
       "      <th>9512</th>\n",
       "      <td>Casa</td>\n",
       "      <td>Casa en venta en Kennedy</td>\n",
       "      <td>7</td>\n",
       "      <td>4</td>\n",
       "      <td>270</td>\n",
       "      <td>Kennedy</td>\n",
       "      <td>Kennedy Central</td>\n",
       "      <td>615.00</td>\n",
       "    </tr>\n",
       "    <tr>\n",
       "      <th>9513</th>\n",
       "      <td>Casa</td>\n",
       "      <td>Casa en venta en San Luis</td>\n",
       "      <td>14</td>\n",
       "      <td>6</td>\n",
       "      <td>594</td>\n",
       "      <td>San Luis</td>\n",
       "      <td>Galerías</td>\n",
       "      <td>1200.00</td>\n",
       "    </tr>\n",
       "    <tr>\n",
       "      <th>9517</th>\n",
       "      <td>Local</td>\n",
       "      <td>Local en venta en Restrepo</td>\n",
       "      <td>8</td>\n",
       "      <td>6</td>\n",
       "      <td>383</td>\n",
       "      <td>Restrepo</td>\n",
       "      <td>Restrepo</td>\n",
       "      <td>900.00</td>\n",
       "    </tr>\n",
       "  </tbody>\n",
       "</table>\n",
       "<p>365 rows × 8 columns</p>\n",
       "</div>"
      ],
      "text/plain": [
       "             Tipo                                 Descripcion  Habitaciones  \\\n",
       "37    Apartamento  Apartamento en venta en Zona Noroccidental            32   \n",
       "67    Apartamento  Apartamento en venta en Zona Noroccidental            32   \n",
       "146          Casa                    Casa en venta en Usaquén             7   \n",
       "152          Casa                    Casa en venta en Usaquén             7   \n",
       "239          Casa                    Casa en venta en Kennedy            14   \n",
       "...           ...                                         ...           ...   \n",
       "9493         Casa             Casa en venta en Barrios Unidos             8   \n",
       "9499         Casa              Casa en venta en Puente Aranda             7   \n",
       "9512         Casa                    Casa en venta en Kennedy             7   \n",
       "9513         Casa                   Casa en venta en San Luis            14   \n",
       "9517        Local                  Local en venta en Restrepo             8   \n",
       "\n",
       "      Banos  Area              Barrio  \\\n",
       "37        2    63  Zona Noroccidental   \n",
       "67        2    63  Zona Noroccidental   \n",
       "146       4   325             Usaquén   \n",
       "152       4   325             Usaquén   \n",
       "239       7   360             Kennedy   \n",
       "...     ...   ...                 ...   \n",
       "9493      6   247      Barrios Unidos   \n",
       "9499      3   295       Puente Aranda   \n",
       "9512      4   270             Kennedy   \n",
       "9513      6   594            San Luis   \n",
       "9517      6   383            Restrepo   \n",
       "\n",
       "                                                 UPZ  Precio_Millon  \n",
       "37                CHAPINERO: Pardo Rubio + Chapinero         290.50  \n",
       "67                CHAPINERO: Pardo Rubio + Chapinero         290.50  \n",
       "146                                          Usaquén        1650.00  \n",
       "152                                          Usaquén        1650.00  \n",
       "239                                  Kennedy Central        1290.00  \n",
       "...                                              ...            ...  \n",
       "9493                                       Los Andes         690.00  \n",
       "9499  PUENTE ARANDA: Zona Industrial + Puente Aranda         780.00  \n",
       "9512                                 Kennedy Central         615.00  \n",
       "9513                                        Galerías        1200.00  \n",
       "9517                                        Restrepo         900.00  \n",
       "\n",
       "[365 rows x 8 columns]"
      ]
     },
     "execution_count": 247,
     "metadata": {},
     "output_type": "execute_result"
    }
   ],
   "source": [
    "df_inmuebles.loc[df_inmuebles.Habitaciones > 6]"
   ]
  },
  {
   "cell_type": "markdown",
   "metadata": {},
   "source": [
    "UPZ= Son áreas urbanas más pequeñas que las localidades y más grandes que el barrio. La función de las UPZ es servir de unidades territoriales o sectores para planificar el desarrollo urbano en el nivel zonal. Son un instrumento de planificación para poder desarrollar una norma urbanística en el nivel de detalle que requiere Bogotá, debido a las grandes diferencias que existen entre unos sectores y otros"
   ]
  },
  {
   "cell_type": "code",
   "execution_count": null,
   "metadata": {},
   "outputs": [
    {
     "name": "stdout",
     "output_type": "stream",
     "text": [
      "<class 'pandas.core.frame.DataFrame'>\n",
      "RangeIndex: 9520 entries, 0 to 9519\n",
      "Data columns (total 8 columns):\n",
      " #   Column        Non-Null Count  Dtype  \n",
      "---  ------        --------------  -----  \n",
      " 0   Tipo          9520 non-null   object \n",
      " 1   Descripcion   9520 non-null   object \n",
      " 2   Habitaciones  9520 non-null   int64  \n",
      " 3   Banos         9520 non-null   int64  \n",
      " 4   Area          9520 non-null   int64  \n",
      " 5   Barrio        9520 non-null   object \n",
      " 6   UPZ           9478 non-null   object \n",
      " 7   Precio        9520 non-null   float64\n",
      "dtypes: float64(1), int64(3), object(4)\n",
      "memory usage: 595.1+ KB\n"
     ]
    }
   ],
   "source": [
    "df_inmuebles.info()"
   ]
  },
  {
   "cell_type": "code",
   "execution_count": null,
   "metadata": {},
   "outputs": [
    {
     "data": {
      "text/plain": [
       "(64,)"
      ]
     },
     "execution_count": 62,
     "metadata": {},
     "output_type": "execute_result"
    }
   ],
   "source": [
    "df_inmuebles['UPZ'].unique().shape"
   ]
  },
  {
   "cell_type": "code",
   "execution_count": null,
   "metadata": {},
   "outputs": [
    {
     "data": {
      "text/plain": [
       "(149,)"
      ]
     },
     "execution_count": 63,
     "metadata": {},
     "output_type": "execute_result"
    }
   ],
   "source": [
    "df_inmuebles['Barrio'].unique().shape"
   ]
  },
  {
   "cell_type": "code",
   "execution_count": null,
   "metadata": {},
   "outputs": [
    {
     "data": {
      "text/plain": [
       "Usaquén               1105\n",
       "Zona Noroccidental     877\n",
       "Bosa                   589\n",
       "Kennedy                589\n",
       "Cedritos               554\n",
       "                      ... \n",
       "Colinas De Suba          1\n",
       "La Estanzuela            1\n",
       "Roma                     1\n",
       "Alameda                  1\n",
       "Prado Veraniego          1\n",
       "Name: Barrio, Length: 149, dtype: int64"
      ]
     },
     "execution_count": 64,
     "metadata": {},
     "output_type": "execute_result"
    }
   ],
   "source": [
    "df_inmuebles.Barrio.value_counts()"
   ]
  },
  {
   "cell_type": "code",
   "execution_count": null,
   "metadata": {},
   "outputs": [],
   "source": [
    "inmuebles_barrio=df_inmuebles.Barrio.value_counts()"
   ]
  },
  {
   "cell_type": "code",
   "execution_count": null,
   "metadata": {},
   "outputs": [
    {
     "data": {
      "image/png": "[encoded data removed]",
      "text/plain": [
       "<Figure size 1000x300 with 1 Axes>"
      ]
     },
     "metadata": {},
     "output_type": "display_data"
    }
   ],
   "source": [
    "fig, ax = plt.subplots(figsize=(10, 3))\n",
    "inmuebles_barrio.head(10).plot.bar(x='Barrio', y='Valor', ax=ax)\n",
    "plt.show()"
   ]
  },
  {
   "cell_type": "markdown",
   "metadata": {},
   "source": [
    "1.- Promedio de area de todos los inmuebles en los barrios del dataframe.El top 10 de promedios. \n",
    "2.-Conteo, mediana, valor min, valor max. "
   ]
  },
  {
   "cell_type": "markdown",
   "metadata": {},
   "source": [
    "Barrios"
   ]
  },
  {
   "cell_type": "code",
   "execution_count": null,
   "metadata": {},
   "outputs": [],
   "source": [
    "Barrios=(df_inmuebles['Barrio'].unique().tolist())"
   ]
  },
  {
   "cell_type": "code",
   "execution_count": null,
   "metadata": {},
   "outputs": [],
   "source": [
    "barrios=[]\n",
    "Area_promedio=[]\n",
    "for bar in Barrios:\n",
    "    barrios.append(bar)\n",
    "    Area_promedio.append(df_inmuebles[df_inmuebles.Barrio==bar]['Area'].mean())\n",
    "\n",
    "data = {'Barrio': barrios, 'Promedio Area (m2)': Area_promedio}\n",
    "df_promedios_area = pd.DataFrame(data)\n",
    "df_promedios_area = df_promedios_area.sort_values(by='Promedio Area (m2)', ascending=False)"
   ]
  },
  {
   "cell_type": "code",
   "execution_count": null,
   "metadata": {},
   "outputs": [
    {
     "data": {
      "text/html": [
       "<div>\n",
       "<style scoped>\n",
       "    .dataframe tbody tr th:only-of-type {\n",
       "        vertical-align: middle;\n",
       "    }\n",
       "\n",
       "    .dataframe tbody tr th {\n",
       "        vertical-align: top;\n",
       "    }\n",
       "\n",
       "    .dataframe thead th {\n",
       "        text-align: right;\n",
       "    }\n",
       "</style>\n",
       "<table border=\"1\" class=\"dataframe\">\n",
       "  <thead>\n",
       "    <tr style=\"text-align: right;\">\n",
       "      <th></th>\n",
       "      <th>Barrio</th>\n",
       "      <th>Promedio Area (m2)</th>\n",
       "    </tr>\n",
       "  </thead>\n",
       "  <tbody>\n",
       "    <tr>\n",
       "      <th>35</th>\n",
       "      <td>Modelia</td>\n",
       "      <td>4316.750000</td>\n",
       "    </tr>\n",
       "    <tr>\n",
       "      <th>124</th>\n",
       "      <td>Libertador</td>\n",
       "      <td>642.000000</td>\n",
       "    </tr>\n",
       "    <tr>\n",
       "      <th>119</th>\n",
       "      <td>Bosa Piamonte</td>\n",
       "      <td>400.000000</td>\n",
       "    </tr>\n",
       "    <tr>\n",
       "      <th>81</th>\n",
       "      <td>La Soledad</td>\n",
       "      <td>378.625000</td>\n",
       "    </tr>\n",
       "    <tr>\n",
       "      <th>106</th>\n",
       "      <td>Restrepo</td>\n",
       "      <td>336.500000</td>\n",
       "    </tr>\n",
       "    <tr>\n",
       "      <th>126</th>\n",
       "      <td>Santa Librada</td>\n",
       "      <td>328.000000</td>\n",
       "    </tr>\n",
       "    <tr>\n",
       "      <th>125</th>\n",
       "      <td>Las Ferias</td>\n",
       "      <td>320.000000</td>\n",
       "    </tr>\n",
       "    <tr>\n",
       "      <th>82</th>\n",
       "      <td>Santa Ana</td>\n",
       "      <td>309.375000</td>\n",
       "    </tr>\n",
       "    <tr>\n",
       "      <th>86</th>\n",
       "      <td>Veraguas</td>\n",
       "      <td>302.666667</td>\n",
       "    </tr>\n",
       "    <tr>\n",
       "      <th>84</th>\n",
       "      <td>Bellavista Occidental</td>\n",
       "      <td>286.200000</td>\n",
       "    </tr>\n",
       "  </tbody>\n",
       "</table>\n",
       "</div>"
      ],
      "text/plain": [
       "                    Barrio  Promedio Area (m2)\n",
       "35                 Modelia         4316.750000\n",
       "124             Libertador          642.000000\n",
       "119          Bosa Piamonte          400.000000\n",
       "81             La Soledad           378.625000\n",
       "106               Restrepo          336.500000\n",
       "126          Santa Librada          328.000000\n",
       "125             Las Ferias          320.000000\n",
       "82               Santa Ana          309.375000\n",
       "86                Veraguas          302.666667\n",
       "84   Bellavista Occidental          286.200000"
      ]
     },
     "execution_count": 69,
     "metadata": {},
     "output_type": "execute_result"
    }
   ],
   "source": [
    "df_promedios_area.head(10)"
   ]
  },
  {
   "cell_type": "code",
   "execution_count": null,
   "metadata": {},
   "outputs": [
    {
     "data": {
      "image/png": "[encoded data removed]",
      "text/plain": [
       "<Figure size 1000x300 with 1 Axes>"
      ]
     },
     "metadata": {},
     "output_type": "display_data"
    }
   ],
   "source": [
    "fig, ax = plt.subplots(figsize=(10, 3))\n",
    "df_promedios_area.head(10).plot.bar(x='Barrio', y='Promedio Area (m2)', ax=ax)\n",
    "plt.show()"
   ]
  },
  {
   "cell_type": "markdown",
   "metadata": {},
   "source": [
    "¿Que hay en Modelia? "
   ]
  },
  {
   "cell_type": "code",
   "execution_count": null,
   "metadata": {},
   "outputs": [
    {
     "data": {
      "text/html": [
       "<div>\n",
       "<style scoped>\n",
       "    .dataframe tbody tr th:only-of-type {\n",
       "        vertical-align: middle;\n",
       "    }\n",
       "\n",
       "    .dataframe tbody tr th {\n",
       "        vertical-align: top;\n",
       "    }\n",
       "\n",
       "    .dataframe thead th {\n",
       "        text-align: right;\n",
       "    }\n",
       "</style>\n",
       "<table border=\"1\" class=\"dataframe\">\n",
       "  <thead>\n",
       "    <tr style=\"text-align: right;\">\n",
       "      <th></th>\n",
       "      <th>Habitaciones</th>\n",
       "      <th>Banos</th>\n",
       "      <th>Area</th>\n",
       "      <th>Precio</th>\n",
       "    </tr>\n",
       "  </thead>\n",
       "  <tbody>\n",
       "    <tr>\n",
       "      <th>count</th>\n",
       "      <td>40.00000</td>\n",
       "      <td>40.000000</td>\n",
       "      <td>40.000000</td>\n",
       "      <td>40.000000</td>\n",
       "    </tr>\n",
       "    <tr>\n",
       "      <th>mean</th>\n",
       "      <td>3.67500</td>\n",
       "      <td>2.775000</td>\n",
       "      <td>4316.750000</td>\n",
       "      <td>705.469750</td>\n",
       "    </tr>\n",
       "    <tr>\n",
       "      <th>std</th>\n",
       "      <td>1.22762</td>\n",
       "      <td>0.973692</td>\n",
       "      <td>26259.427757</td>\n",
       "      <td>245.746372</td>\n",
       "    </tr>\n",
       "    <tr>\n",
       "      <th>min</th>\n",
       "      <td>2.00000</td>\n",
       "      <td>1.000000</td>\n",
       "      <td>48.000000</td>\n",
       "      <td>260.000000</td>\n",
       "    </tr>\n",
       "    <tr>\n",
       "      <th>25%</th>\n",
       "      <td>3.00000</td>\n",
       "      <td>2.000000</td>\n",
       "      <td>87.750000</td>\n",
       "      <td>544.997500</td>\n",
       "    </tr>\n",
       "    <tr>\n",
       "      <th>50%</th>\n",
       "      <td>3.00000</td>\n",
       "      <td>3.000000</td>\n",
       "      <td>155.500000</td>\n",
       "      <td>725.000000</td>\n",
       "    </tr>\n",
       "    <tr>\n",
       "      <th>75%</th>\n",
       "      <td>4.00000</td>\n",
       "      <td>3.000000</td>\n",
       "      <td>224.000000</td>\n",
       "      <td>852.500000</td>\n",
       "    </tr>\n",
       "    <tr>\n",
       "      <th>max</th>\n",
       "      <td>8.00000</td>\n",
       "      <td>6.000000</td>\n",
       "      <td>166243.000000</td>\n",
       "      <td>1200.000000</td>\n",
       "    </tr>\n",
       "  </tbody>\n",
       "</table>\n",
       "</div>"
      ],
      "text/plain": [
       "       Habitaciones      Banos           Area       Precio\n",
       "count      40.00000  40.000000      40.000000    40.000000\n",
       "mean        3.67500   2.775000    4316.750000   705.469750\n",
       "std         1.22762   0.973692   26259.427757   245.746372\n",
       "min         2.00000   1.000000      48.000000   260.000000\n",
       "25%         3.00000   2.000000      87.750000   544.997500\n",
       "50%         3.00000   3.000000     155.500000   725.000000\n",
       "75%         4.00000   3.000000     224.000000   852.500000\n",
       "max         8.00000   6.000000  166243.000000  1200.000000"
      ]
     },
     "execution_count": 71,
     "metadata": {},
     "output_type": "execute_result"
    }
   ],
   "source": [
    "df_inmuebles[df_inmuebles.Barrio=='Modelia'].describe()"
   ]
  },
  {
   "cell_type": "markdown",
   "metadata": {},
   "source": [
    "Valor atipico en el area "
   ]
  },
  {
   "cell_type": "code",
   "execution_count": null,
   "metadata": {},
   "outputs": [
    {
     "data": {
      "text/html": [
       "<div>\n",
       "<style scoped>\n",
       "    .dataframe tbody tr th:only-of-type {\n",
       "        vertical-align: middle;\n",
       "    }\n",
       "\n",
       "    .dataframe tbody tr th {\n",
       "        vertical-align: top;\n",
       "    }\n",
       "\n",
       "    .dataframe thead th {\n",
       "        text-align: right;\n",
       "    }\n",
       "</style>\n",
       "<table border=\"1\" class=\"dataframe\">\n",
       "  <thead>\n",
       "    <tr style=\"text-align: right;\">\n",
       "      <th></th>\n",
       "      <th>Tipo</th>\n",
       "      <th>Descripcion</th>\n",
       "      <th>Habitaciones</th>\n",
       "      <th>Banos</th>\n",
       "      <th>Area</th>\n",
       "      <th>Barrio</th>\n",
       "      <th>UPZ</th>\n",
       "      <th>Precio</th>\n",
       "    </tr>\n",
       "  </thead>\n",
       "  <tbody>\n",
       "    <tr>\n",
       "      <th>1283</th>\n",
       "      <td>Casa</td>\n",
       "      <td>Casa en venta en Modelia</td>\n",
       "      <td>8</td>\n",
       "      <td>4</td>\n",
       "      <td>236</td>\n",
       "      <td>Modelia</td>\n",
       "      <td>Fontibón</td>\n",
       "      <td>1120.0</td>\n",
       "    </tr>\n",
       "    <tr>\n",
       "      <th>2147</th>\n",
       "      <td>Casa</td>\n",
       "      <td>Casa en venta en Modelia</td>\n",
       "      <td>5</td>\n",
       "      <td>4</td>\n",
       "      <td>320</td>\n",
       "      <td>Modelia</td>\n",
       "      <td>Fontibón</td>\n",
       "      <td>750.0</td>\n",
       "    </tr>\n",
       "    <tr>\n",
       "      <th>2257</th>\n",
       "      <td>Casa</td>\n",
       "      <td>Casa en venta en Modelia</td>\n",
       "      <td>5</td>\n",
       "      <td>4</td>\n",
       "      <td>244</td>\n",
       "      <td>Modelia</td>\n",
       "      <td>Fontibón</td>\n",
       "      <td>950.0</td>\n",
       "    </tr>\n",
       "    <tr>\n",
       "      <th>4913</th>\n",
       "      <td>Casa</td>\n",
       "      <td>Casa en venta en Modelia</td>\n",
       "      <td>5</td>\n",
       "      <td>4</td>\n",
       "      <td>320</td>\n",
       "      <td>Modelia</td>\n",
       "      <td>Fontibón</td>\n",
       "      <td>750.0</td>\n",
       "    </tr>\n",
       "    <tr>\n",
       "      <th>4914</th>\n",
       "      <td>Casa</td>\n",
       "      <td>Casa en venta en Modelia</td>\n",
       "      <td>5</td>\n",
       "      <td>4</td>\n",
       "      <td>320</td>\n",
       "      <td>Modelia</td>\n",
       "      <td>Fontibón</td>\n",
       "      <td>750.0</td>\n",
       "    </tr>\n",
       "    <tr>\n",
       "      <th>5059</th>\n",
       "      <td>Casa</td>\n",
       "      <td>Casa en venta en Modelia</td>\n",
       "      <td>7</td>\n",
       "      <td>6</td>\n",
       "      <td>287</td>\n",
       "      <td>Modelia</td>\n",
       "      <td>Fontibón</td>\n",
       "      <td>750.0</td>\n",
       "    </tr>\n",
       "    <tr>\n",
       "      <th>7073</th>\n",
       "      <td>Casa</td>\n",
       "      <td>Casa en venta en Modelia</td>\n",
       "      <td>4</td>\n",
       "      <td>3</td>\n",
       "      <td>166243</td>\n",
       "      <td>Modelia</td>\n",
       "      <td>Fontibón</td>\n",
       "      <td>850.0</td>\n",
       "    </tr>\n",
       "    <tr>\n",
       "      <th>7908</th>\n",
       "      <td>Casa</td>\n",
       "      <td>Casa en venta en Modelia</td>\n",
       "      <td>3</td>\n",
       "      <td>3</td>\n",
       "      <td>275</td>\n",
       "      <td>Modelia</td>\n",
       "      <td>Fontibón</td>\n",
       "      <td>850.0</td>\n",
       "    </tr>\n",
       "    <tr>\n",
       "      <th>8562</th>\n",
       "      <td>Casa</td>\n",
       "      <td>Casa en venta en Modelia</td>\n",
       "      <td>5</td>\n",
       "      <td>4</td>\n",
       "      <td>400</td>\n",
       "      <td>Modelia</td>\n",
       "      <td>Fontibón</td>\n",
       "      <td>950.0</td>\n",
       "    </tr>\n",
       "    <tr>\n",
       "      <th>9326</th>\n",
       "      <td>Casa</td>\n",
       "      <td>Casa en venta en Modelia</td>\n",
       "      <td>5</td>\n",
       "      <td>3</td>\n",
       "      <td>270</td>\n",
       "      <td>Modelia</td>\n",
       "      <td>Fontibón</td>\n",
       "      <td>1100.0</td>\n",
       "    </tr>\n",
       "  </tbody>\n",
       "</table>\n",
       "</div>"
      ],
      "text/plain": [
       "      Tipo               Descripcion  Habitaciones  Banos    Area   Barrio  \\\n",
       "1283  Casa  Casa en venta en Modelia             8      4     236  Modelia   \n",
       "2147  Casa  Casa en venta en Modelia             5      4     320  Modelia   \n",
       "2257  Casa  Casa en venta en Modelia             5      4     244  Modelia   \n",
       "4913  Casa  Casa en venta en Modelia             5      4     320  Modelia   \n",
       "4914  Casa  Casa en venta en Modelia             5      4     320  Modelia   \n",
       "5059  Casa  Casa en venta en Modelia             7      6     287  Modelia   \n",
       "7073  Casa  Casa en venta en Modelia             4      3  166243  Modelia   \n",
       "7908  Casa  Casa en venta en Modelia             3      3     275  Modelia   \n",
       "8562  Casa  Casa en venta en Modelia             5      4     400  Modelia   \n",
       "9326  Casa  Casa en venta en Modelia             5      3     270  Modelia   \n",
       "\n",
       "           UPZ  Precio  \n",
       "1283  Fontibón  1120.0  \n",
       "2147  Fontibón   750.0  \n",
       "2257  Fontibón   950.0  \n",
       "4913  Fontibón   750.0  \n",
       "4914  Fontibón   750.0  \n",
       "5059  Fontibón   750.0  \n",
       "7073  Fontibón   850.0  \n",
       "7908  Fontibón   850.0  \n",
       "8562  Fontibón   950.0  \n",
       "9326  Fontibón  1100.0  "
      ]
     },
     "execution_count": 72,
     "metadata": {},
     "output_type": "execute_result"
    }
   ],
   "source": [
    "df_inmuebles[(df_inmuebles['Area'] > 224) & (df_inmuebles['Barrio'] == 'Modelia')]"
   ]
  },
  {
   "cell_type": "markdown",
   "metadata": {},
   "source": [
    "EDA"
   ]
  },
  {
   "cell_type": "code",
   "execution_count": 129,
   "metadata": {},
   "outputs": [
    {
     "data": {
      "image/png": "[encoded data removed]",
      "text/plain": [
       "<Figure size 1000x500 with 1 Axes>"
      ]
     },
     "metadata": {},
     "output_type": "display_data"
    }
   ],
   "source": [
    "plt.figure(figsize=(10,5))\n",
    "histograma=sns.histplot(data=df_inmuebles,x='Precio_Millon',kde=True,hue='Tipo')\n",
    "histograma.set_title('Distribución de Precios en Bogota')\n",
    "plt.xlim(50,680)\n",
    "#plt.ylim(20,200)\n",
    "#plt.savefig('Ruta',format='png')\n",
    "plt.show()"
   ]
  },
  {
   "cell_type": "markdown",
   "metadata": {},
   "source": [
    "2.-Top 3 tipos de inmuebles más interesantes. (Refinar el gráfico: Títulos,aumentar tamaños de labels, colores y conclusiones) "
   ]
  },
  {
   "cell_type": "markdown",
   "metadata": {},
   "source": [
    "3.-Precio del m2 por barrio (Gráfico adecuado)"
   ]
  }
 ],
 "metadata": {
  "kernelspec": {
   "display_name": "Python 3.8.3 64-bit",
   "language": "python",
   "name": "python3"
  },
  "language_info": {
   "codemirror_mode": {
    "name": "ipython",
    "version": 3
   },
   "file_extension": ".py",
   "mimetype": "text/x-python",
   "name": "python",
   "nbconvert_exporter": "python",
   "pygments_lexer": "ipython3",
   "version": "3.8.3"
  },
  "orig_nbformat": 4,
  "vscode": {
   "interpreter": {
    "hash": "aee8b7b246df8f9039afb4144a1f6fd8d2ca17a180786b69acc140d282b71a49"
   }
  }
 },
 "nbformat": 4,
 "nbformat_minor": 2
}
