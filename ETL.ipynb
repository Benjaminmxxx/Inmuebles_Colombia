{
 "cells": [
  {
   "cell_type": "code",
   "execution_count": 135,
   "metadata": {},
   "outputs": [],
   "source": [
    "import pandas as pd\n",
    "import numpy as np\n",
    "import matplotlib.pyplot as plt\n",
    "import locale\n"
   ]
  },
  {
   "cell_type": "code",
   "execution_count": 156,
   "metadata": {},
   "outputs": [],
   "source": [
    "df_inmuebles=pd.read_csv('./inmuebles_bogota.csv')"
   ]
  },
  {
   "cell_type": "code",
   "execution_count": 157,
   "metadata": {},
   "outputs": [
    {
     "data": {
      "text/plain": [
       "(9520, 8)"
      ]
     },
     "execution_count": 157,
     "metadata": {},
     "output_type": "execute_result"
    }
   ],
   "source": [
    "df_inmuebles.shape"
   ]
  },
  {
   "cell_type": "code",
   "execution_count": 158,
   "metadata": {},
   "outputs": [
    {
     "data": {
      "text/plain": [
       "Index(['Tipo', 'Descripcion', 'Habitaciones', 'Baños', 'Área', 'Barrio', 'UPZ',\n",
       "       'Valor'],\n",
       "      dtype='object')"
      ]
     },
     "execution_count": 158,
     "metadata": {},
     "output_type": "execute_result"
    }
   ],
   "source": [
    "df_inmuebles.columns"
   ]
  },
  {
   "cell_type": "code",
   "execution_count": 159,
   "metadata": {},
   "outputs": [
    {
     "data": {
      "text/html": [
       "<div>\n",
       "<style scoped>\n",
       "    .dataframe tbody tr th:only-of-type {\n",
       "        vertical-align: middle;\n",
       "    }\n",
       "\n",
       "    .dataframe tbody tr th {\n",
       "        vertical-align: top;\n",
       "    }\n",
       "\n",
       "    .dataframe thead th {\n",
       "        text-align: right;\n",
       "    }\n",
       "</style>\n",
       "<table border=\"1\" class=\"dataframe\">\n",
       "  <thead>\n",
       "    <tr style=\"text-align: right;\">\n",
       "      <th></th>\n",
       "      <th>Tipo</th>\n",
       "      <th>Descripcion</th>\n",
       "      <th>Habitaciones</th>\n",
       "      <th>Banos</th>\n",
       "      <th>Area</th>\n",
       "      <th>Barrio</th>\n",
       "      <th>UPZ</th>\n",
       "      <th>Precio</th>\n",
       "    </tr>\n",
       "  </thead>\n",
       "  <tbody>\n",
       "    <tr>\n",
       "      <th>9370</th>\n",
       "      <td>Apartamento</td>\n",
       "      <td>Apartamento en venta en Ciudad Salitre</td>\n",
       "      <td>3</td>\n",
       "      <td>2</td>\n",
       "      <td>70</td>\n",
       "      <td>Ciudad Salitre</td>\n",
       "      <td>Ciudad Salitre Oriental</td>\n",
       "      <td>$ 360.000.000</td>\n",
       "    </tr>\n",
       "    <tr>\n",
       "      <th>2254</th>\n",
       "      <td>Apartamento</td>\n",
       "      <td>Apartamento en venta en Bella Suiza</td>\n",
       "      <td>2</td>\n",
       "      <td>2</td>\n",
       "      <td>60</td>\n",
       "      <td>Bella Suiza</td>\n",
       "      <td>USAQUÉN: Country Club + Santa Bárbara</td>\n",
       "      <td>$ 384.000.000</td>\n",
       "    </tr>\n",
       "    <tr>\n",
       "      <th>2241</th>\n",
       "      <td>Casa</td>\n",
       "      <td>Casa en venta en Alhambra</td>\n",
       "      <td>3</td>\n",
       "      <td>2</td>\n",
       "      <td>197</td>\n",
       "      <td>Alhambra</td>\n",
       "      <td>La Alhambra</td>\n",
       "      <td>$ 1.100.000.000</td>\n",
       "    </tr>\n",
       "  </tbody>\n",
       "</table>\n",
       "</div>"
      ],
      "text/plain": [
       "             Tipo                             Descripcion  Habitaciones  \\\n",
       "9370  Apartamento  Apartamento en venta en Ciudad Salitre             3   \n",
       "2254  Apartamento     Apartamento en venta en Bella Suiza             2   \n",
       "2241         Casa               Casa en venta en Alhambra             3   \n",
       "\n",
       "      Banos  Area          Barrio                                    UPZ  \\\n",
       "9370      2    70  Ciudad Salitre                Ciudad Salitre Oriental   \n",
       "2254      2    60     Bella Suiza  USAQUÉN: Country Club + Santa Bárbara   \n",
       "2241      2   197        Alhambra                            La Alhambra   \n",
       "\n",
       "               Precio  \n",
       "9370    $ 360.000.000  \n",
       "2254    $ 384.000.000  \n",
       "2241  $ 1.100.000.000  "
      ]
     },
     "execution_count": 159,
     "metadata": {},
     "output_type": "execute_result"
    }
   ],
   "source": [
    "columnas={'Baños':'Banos','Área':'Area','Valor':'Precio'}\n",
    "df_inmuebles=df_inmuebles.rename(columns=columnas)\n",
    "df_inmuebles.sample(3)"
   ]
  },
  {
   "cell_type": "markdown",
   "metadata": {},
   "source": [
    "Tratando columna Precio "
   ]
  },
  {
   "cell_type": "code",
   "execution_count": 160,
   "metadata": {},
   "outputs": [],
   "source": [
    "df_inmuebles['Precio'] = df_inmuebles['Precio'].str.replace('[$,. ]', '', regex=True)\n",
    "df_inmuebles['Precio'] = pd.to_numeric(df_inmuebles['Precio'])"
   ]
  },
  {
   "cell_type": "code",
   "execution_count": 185,
   "metadata": {},
   "outputs": [
    {
     "data": {
      "text/html": [
       "<div>\n",
       "<style scoped>\n",
       "    .dataframe tbody tr th:only-of-type {\n",
       "        vertical-align: middle;\n",
       "    }\n",
       "\n",
       "    .dataframe tbody tr th {\n",
       "        vertical-align: top;\n",
       "    }\n",
       "\n",
       "    .dataframe thead th {\n",
       "        text-align: right;\n",
       "    }\n",
       "</style>\n",
       "<table border=\"1\" class=\"dataframe\">\n",
       "  <thead>\n",
       "    <tr style=\"text-align: right;\">\n",
       "      <th></th>\n",
       "      <th>Tipo</th>\n",
       "      <th>Descripcion</th>\n",
       "      <th>Habitaciones</th>\n",
       "      <th>Banos</th>\n",
       "      <th>Area</th>\n",
       "      <th>Barrio</th>\n",
       "      <th>UPZ</th>\n",
       "      <th>Precio</th>\n",
       "    </tr>\n",
       "  </thead>\n",
       "  <tbody>\n",
       "    <tr>\n",
       "      <th>0</th>\n",
       "      <td>Apartamento</td>\n",
       "      <td>Apartamento en venta en Zona Noroccidental</td>\n",
       "      <td>3</td>\n",
       "      <td>2</td>\n",
       "      <td>70</td>\n",
       "      <td>Zona Noroccidental</td>\n",
       "      <td>CHAPINERO: Pardo Rubio + Chapinero</td>\n",
       "      <td>360000000.0</td>\n",
       "    </tr>\n",
       "  </tbody>\n",
       "</table>\n",
       "</div>"
      ],
      "text/plain": [
       "          Tipo                                 Descripcion  Habitaciones  \\\n",
       "0  Apartamento  Apartamento en venta en Zona Noroccidental             3   \n",
       "\n",
       "   Banos  Area              Barrio                                 UPZ  \\\n",
       "0      2    70  Zona Noroccidental  CHAPINERO: Pardo Rubio + Chapinero   \n",
       "\n",
       "        Precio  \n",
       "0  360000000.0  "
      ]
     },
     "execution_count": 185,
     "metadata": {},
     "output_type": "execute_result"
    }
   ],
   "source": [
    "df_inmuebles.head(1)"
   ]
  },
  {
   "cell_type": "code",
   "execution_count": 162,
   "metadata": {},
   "outputs": [],
   "source": [
    "df_inmuebles['Precio'] = df_inmuebles['Precio'].astype(float)"
   ]
  },
  {
   "cell_type": "code",
   "execution_count": 184,
   "metadata": {},
   "outputs": [
    {
     "data": {
      "text/html": [
       "<div>\n",
       "<style scoped>\n",
       "    .dataframe tbody tr th:only-of-type {\n",
       "        vertical-align: middle;\n",
       "    }\n",
       "\n",
       "    .dataframe tbody tr th {\n",
       "        vertical-align: top;\n",
       "    }\n",
       "\n",
       "    .dataframe thead th {\n",
       "        text-align: right;\n",
       "    }\n",
       "</style>\n",
       "<table border=\"1\" class=\"dataframe\">\n",
       "  <thead>\n",
       "    <tr style=\"text-align: right;\">\n",
       "      <th></th>\n",
       "      <th>Tipo</th>\n",
       "      <th>Descripcion</th>\n",
       "      <th>Habitaciones</th>\n",
       "      <th>Banos</th>\n",
       "      <th>Area</th>\n",
       "      <th>Barrio</th>\n",
       "      <th>UPZ</th>\n",
       "      <th>Precio</th>\n",
       "    </tr>\n",
       "  </thead>\n",
       "  <tbody>\n",
       "    <tr>\n",
       "      <th>6727</th>\n",
       "      <td>Apartamento</td>\n",
       "      <td>Apartamento en venta en Bosa</td>\n",
       "      <td>2</td>\n",
       "      <td>1</td>\n",
       "      <td>43</td>\n",
       "      <td>Bosa</td>\n",
       "      <td>Bosa Central</td>\n",
       "      <td>119000000.0</td>\n",
       "    </tr>\n",
       "    <tr>\n",
       "      <th>1106</th>\n",
       "      <td>Apartamento</td>\n",
       "      <td>Apartamento en venta en Santa Barbara</td>\n",
       "      <td>3</td>\n",
       "      <td>3</td>\n",
       "      <td>112</td>\n",
       "      <td>Santa Barbara</td>\n",
       "      <td>USAQUÉN: Country Club + Santa Bárbara</td>\n",
       "      <td>630000000.0</td>\n",
       "    </tr>\n",
       "    <tr>\n",
       "      <th>5642</th>\n",
       "      <td>Apartamento</td>\n",
       "      <td>Apartamento en venta en San Cipriano</td>\n",
       "      <td>3</td>\n",
       "      <td>2</td>\n",
       "      <td>75</td>\n",
       "      <td>San Cipriano</td>\n",
       "      <td>Britalia</td>\n",
       "      <td>350000000.0</td>\n",
       "    </tr>\n",
       "  </tbody>\n",
       "</table>\n",
       "</div>"
      ],
      "text/plain": [
       "             Tipo                            Descripcion  Habitaciones  Banos  \\\n",
       "6727  Apartamento           Apartamento en venta en Bosa             2      1   \n",
       "1106  Apartamento  Apartamento en venta en Santa Barbara             3      3   \n",
       "5642  Apartamento   Apartamento en venta en San Cipriano             3      2   \n",
       "\n",
       "      Area         Barrio                                    UPZ       Precio  \n",
       "6727    43           Bosa                           Bosa Central  119000000.0  \n",
       "1106   112  Santa Barbara  USAQUÉN: Country Club + Santa Bárbara  630000000.0  \n",
       "5642    75   San Cipriano                               Britalia  350000000.0  "
      ]
     },
     "execution_count": 184,
     "metadata": {},
     "output_type": "execute_result"
    }
   ],
   "source": [
    "df_inmuebles.sample(3)"
   ]
  },
  {
   "cell_type": "markdown",
   "metadata": {},
   "source": [
    "UPZ= Son áreas urbanas más pequeñas que las localidades y más grandes que el barrio. La función de las UPZ es servir de unidades territoriales o sectores para planificar el desarrollo urbano en el nivel zonal. Son un instrumento de planificación para poder desarrollar una norma urbanística en el nivel de detalle que requiere Bogotá, debido a las grandes diferencias que existen entre unos sectores y otros"
   ]
  },
  {
   "cell_type": "code",
   "execution_count": 186,
   "metadata": {},
   "outputs": [
    {
     "name": "stdout",
     "output_type": "stream",
     "text": [
      "<class 'pandas.core.frame.DataFrame'>\n",
      "RangeIndex: 9520 entries, 0 to 9519\n",
      "Data columns (total 8 columns):\n",
      " #   Column        Non-Null Count  Dtype  \n",
      "---  ------        --------------  -----  \n",
      " 0   Tipo          9520 non-null   object \n",
      " 1   Descripcion   9520 non-null   object \n",
      " 2   Habitaciones  9520 non-null   int64  \n",
      " 3   Banos         9520 non-null   int64  \n",
      " 4   Area          9520 non-null   int64  \n",
      " 5   Barrio        9520 non-null   object \n",
      " 6   UPZ           9478 non-null   object \n",
      " 7   Precio        9520 non-null   float64\n",
      "dtypes: float64(1), int64(3), object(4)\n",
      "memory usage: 595.1+ KB\n"
     ]
    }
   ],
   "source": [
    "df_inmuebles.info()"
   ]
  },
  {
   "cell_type": "code",
   "execution_count": 187,
   "metadata": {},
   "outputs": [
    {
     "data": {
      "text/plain": [
       "(64,)"
      ]
     },
     "execution_count": 187,
     "metadata": {},
     "output_type": "execute_result"
    }
   ],
   "source": [
    "df_inmuebles['UPZ'].unique().shape"
   ]
  },
  {
   "cell_type": "code",
   "execution_count": 189,
   "metadata": {},
   "outputs": [
    {
     "data": {
      "text/plain": [
       "(149,)"
      ]
     },
     "execution_count": 189,
     "metadata": {},
     "output_type": "execute_result"
    }
   ],
   "source": [
    "df_inmuebles['Barrio'].unique().shape"
   ]
  },
  {
   "cell_type": "code",
   "execution_count": 190,
   "metadata": {},
   "outputs": [
    {
     "data": {
      "text/plain": [
       "Usaquén               1105\n",
       "Zona Noroccidental     877\n",
       "Bosa                   589\n",
       "Kennedy                589\n",
       "Cedritos               554\n",
       "                      ... \n",
       "Colinas De Suba          1\n",
       "La Estanzuela            1\n",
       "Roma                     1\n",
       "Alameda                  1\n",
       "Prado Veraniego          1\n",
       "Name: Barrio, Length: 149, dtype: int64"
      ]
     },
     "execution_count": 190,
     "metadata": {},
     "output_type": "execute_result"
    }
   ],
   "source": [
    "df_inmuebles.Barrio.value_counts()"
   ]
  },
  {
   "cell_type": "code",
   "execution_count": 191,
   "metadata": {},
   "outputs": [],
   "source": [
    "inmuebles_barrio=df_inmuebles.Barrio.value_counts()"
   ]
  },
  {
   "cell_type": "code",
   "execution_count": 192,
   "metadata": {},
   "outputs": [
    {
     "data": {
      "image/png": "[encoded data removed]",
      "text/plain": [
       "<Figure size 1000x300 with 1 Axes>"
      ]
     },
     "metadata": {},
     "output_type": "display_data"
    }
   ],
   "source": [
    "fig, ax = plt.subplots(figsize=(10, 3))\n",
    "inmuebles_barrio.head(10).plot.bar(x='Barrio', y='Valor', ax=ax)\n",
    "plt.show()"
   ]
  },
  {
   "cell_type": "markdown",
   "metadata": {},
   "source": [
    "1.- Promedio de area de todos los inmuebles en los barrios del dataframe.El top 10 de promedios. \n",
    "2.-Conteo, mediana, valor min, valor max. "
   ]
  },
  {
   "cell_type": "markdown",
   "metadata": {},
   "source": [
    "Barrios"
   ]
  },
  {
   "cell_type": "code",
   "execution_count": 193,
   "metadata": {},
   "outputs": [],
   "source": [
    "Barrios=(df_inmuebles['Barrio'].unique().tolist())"
   ]
  },
  {
   "cell_type": "code",
   "execution_count": 194,
   "metadata": {},
   "outputs": [],
   "source": [
    "barrios=[]\n",
    "Area_promedio=[]\n",
    "for bar in Barrios:\n",
    "    barrios.append(bar)\n",
    "    Area_promedio.append(df_inmuebles[df_inmuebles.Barrio==bar]['Area'].mean())\n",
    "\n",
    "data = {'Barrio': barrios, 'Promedio Area (m2)': Area_promedio}\n",
    "df_promedios_area = pd.DataFrame(data)\n",
    "df_promedios_area = df_promedios_area.sort_values(by='Promedio Area (m2)', ascending=False)"
   ]
  },
  {
   "cell_type": "code",
   "execution_count": 195,
   "metadata": {},
   "outputs": [
    {
     "data": {
      "text/html": [
       "<div>\n",
       "<style scoped>\n",
       "    .dataframe tbody tr th:only-of-type {\n",
       "        vertical-align: middle;\n",
       "    }\n",
       "\n",
       "    .dataframe tbody tr th {\n",
       "        vertical-align: top;\n",
       "    }\n",
       "\n",
       "    .dataframe thead th {\n",
       "        text-align: right;\n",
       "    }\n",
       "</style>\n",
       "<table border=\"1\" class=\"dataframe\">\n",
       "  <thead>\n",
       "    <tr style=\"text-align: right;\">\n",
       "      <th></th>\n",
       "      <th>Barrio</th>\n",
       "      <th>Promedio Area (m2)</th>\n",
       "    </tr>\n",
       "  </thead>\n",
       "  <tbody>\n",
       "    <tr>\n",
       "      <th>35</th>\n",
       "      <td>Modelia</td>\n",
       "      <td>4316.750000</td>\n",
       "    </tr>\n",
       "    <tr>\n",
       "      <th>124</th>\n",
       "      <td>Libertador</td>\n",
       "      <td>642.000000</td>\n",
       "    </tr>\n",
       "    <tr>\n",
       "      <th>119</th>\n",
       "      <td>Bosa Piamonte</td>\n",
       "      <td>400.000000</td>\n",
       "    </tr>\n",
       "    <tr>\n",
       "      <th>81</th>\n",
       "      <td>La Soledad</td>\n",
       "      <td>378.625000</td>\n",
       "    </tr>\n",
       "    <tr>\n",
       "      <th>106</th>\n",
       "      <td>Restrepo</td>\n",
       "      <td>336.500000</td>\n",
       "    </tr>\n",
       "    <tr>\n",
       "      <th>126</th>\n",
       "      <td>Santa Librada</td>\n",
       "      <td>328.000000</td>\n",
       "    </tr>\n",
       "    <tr>\n",
       "      <th>125</th>\n",
       "      <td>Las Ferias</td>\n",
       "      <td>320.000000</td>\n",
       "    </tr>\n",
       "    <tr>\n",
       "      <th>82</th>\n",
       "      <td>Santa Ana</td>\n",
       "      <td>309.375000</td>\n",
       "    </tr>\n",
       "    <tr>\n",
       "      <th>86</th>\n",
       "      <td>Veraguas</td>\n",
       "      <td>302.666667</td>\n",
       "    </tr>\n",
       "    <tr>\n",
       "      <th>84</th>\n",
       "      <td>Bellavista Occidental</td>\n",
       "      <td>286.200000</td>\n",
       "    </tr>\n",
       "  </tbody>\n",
       "</table>\n",
       "</div>"
      ],
      "text/plain": [
       "                    Barrio  Promedio Area (m2)\n",
       "35                 Modelia         4316.750000\n",
       "124             Libertador          642.000000\n",
       "119          Bosa Piamonte          400.000000\n",
       "81             La Soledad           378.625000\n",
       "106               Restrepo          336.500000\n",
       "126          Santa Librada          328.000000\n",
       "125             Las Ferias          320.000000\n",
       "82               Santa Ana          309.375000\n",
       "86                Veraguas          302.666667\n",
       "84   Bellavista Occidental          286.200000"
      ]
     },
     "execution_count": 195,
     "metadata": {},
     "output_type": "execute_result"
    }
   ],
   "source": [
    "df_promedios_area.head(10)"
   ]
  },
  {
   "cell_type": "code",
   "execution_count": 196,
   "metadata": {},
   "outputs": [
    {
     "data": {
      "image/png": "[encoded data removed]",
      "text/plain": [
       "<Figure size 1000x300 with 1 Axes>"
      ]
     },
     "metadata": {},
     "output_type": "display_data"
    }
   ],
   "source": [
    "fig, ax = plt.subplots(figsize=(10, 3))\n",
    "df_promedios_area.head(10).plot.bar(x='Barrio', y='Promedio Area (m2)', ax=ax)\n",
    "plt.show()"
   ]
  },
  {
   "cell_type": "markdown",
   "metadata": {},
   "source": [
    "¿Que hay en Modelia? "
   ]
  },
  {
   "cell_type": "code",
   "execution_count": 197,
   "metadata": {},
   "outputs": [
    {
     "data": {
      "text/html": [
       "<div>\n",
       "<style scoped>\n",
       "    .dataframe tbody tr th:only-of-type {\n",
       "        vertical-align: middle;\n",
       "    }\n",
       "\n",
       "    .dataframe tbody tr th {\n",
       "        vertical-align: top;\n",
       "    }\n",
       "\n",
       "    .dataframe thead th {\n",
       "        text-align: right;\n",
       "    }\n",
       "</style>\n",
       "<table border=\"1\" class=\"dataframe\">\n",
       "  <thead>\n",
       "    <tr style=\"text-align: right;\">\n",
       "      <th></th>\n",
       "      <th>Habitaciones</th>\n",
       "      <th>Banos</th>\n",
       "      <th>Area</th>\n",
       "      <th>Precio</th>\n",
       "    </tr>\n",
       "  </thead>\n",
       "  <tbody>\n",
       "    <tr>\n",
       "      <th>count</th>\n",
       "      <td>40.00000</td>\n",
       "      <td>40.000000</td>\n",
       "      <td>40.000000</td>\n",
       "      <td>4.000000e+01</td>\n",
       "    </tr>\n",
       "    <tr>\n",
       "      <th>mean</th>\n",
       "      <td>3.67500</td>\n",
       "      <td>2.775000</td>\n",
       "      <td>4316.750000</td>\n",
       "      <td>7.054698e+08</td>\n",
       "    </tr>\n",
       "    <tr>\n",
       "      <th>std</th>\n",
       "      <td>1.22762</td>\n",
       "      <td>0.973692</td>\n",
       "      <td>26259.427757</td>\n",
       "      <td>2.457464e+08</td>\n",
       "    </tr>\n",
       "    <tr>\n",
       "      <th>min</th>\n",
       "      <td>2.00000</td>\n",
       "      <td>1.000000</td>\n",
       "      <td>48.000000</td>\n",
       "      <td>2.600000e+08</td>\n",
       "    </tr>\n",
       "    <tr>\n",
       "      <th>25%</th>\n",
       "      <td>3.00000</td>\n",
       "      <td>2.000000</td>\n",
       "      <td>87.750000</td>\n",
       "      <td>5.449975e+08</td>\n",
       "    </tr>\n",
       "    <tr>\n",
       "      <th>50%</th>\n",
       "      <td>3.00000</td>\n",
       "      <td>3.000000</td>\n",
       "      <td>155.500000</td>\n",
       "      <td>7.250000e+08</td>\n",
       "    </tr>\n",
       "    <tr>\n",
       "      <th>75%</th>\n",
       "      <td>4.00000</td>\n",
       "      <td>3.000000</td>\n",
       "      <td>224.000000</td>\n",
       "      <td>8.525000e+08</td>\n",
       "    </tr>\n",
       "    <tr>\n",
       "      <th>max</th>\n",
       "      <td>8.00000</td>\n",
       "      <td>6.000000</td>\n",
       "      <td>166243.000000</td>\n",
       "      <td>1.200000e+09</td>\n",
       "    </tr>\n",
       "  </tbody>\n",
       "</table>\n",
       "</div>"
      ],
      "text/plain": [
       "       Habitaciones      Banos           Area        Precio\n",
       "count      40.00000  40.000000      40.000000  4.000000e+01\n",
       "mean        3.67500   2.775000    4316.750000  7.054698e+08\n",
       "std         1.22762   0.973692   26259.427757  2.457464e+08\n",
       "min         2.00000   1.000000      48.000000  2.600000e+08\n",
       "25%         3.00000   2.000000      87.750000  5.449975e+08\n",
       "50%         3.00000   3.000000     155.500000  7.250000e+08\n",
       "75%         4.00000   3.000000     224.000000  8.525000e+08\n",
       "max         8.00000   6.000000  166243.000000  1.200000e+09"
      ]
     },
     "execution_count": 197,
     "metadata": {},
     "output_type": "execute_result"
    }
   ],
   "source": [
    "df_inmuebles[df_inmuebles.Barrio=='Modelia'].describe()"
   ]
  },
  {
   "cell_type": "markdown",
   "metadata": {},
   "source": [
    "Valor atipico en el area "
   ]
  },
  {
   "cell_type": "code",
   "execution_count": null,
   "metadata": {},
   "outputs": [],
   "source": [
    "df_inmuebles[df_inmuebles.Barrio=='Modelia']['']"
   ]
  },
  {
   "cell_type": "code",
   "execution_count": 205,
   "metadata": {},
   "outputs": [
    {
     "data": {
      "text/html": [
       "<div>\n",
       "<style scoped>\n",
       "    .dataframe tbody tr th:only-of-type {\n",
       "        vertical-align: middle;\n",
       "    }\n",
       "\n",
       "    .dataframe tbody tr th {\n",
       "        vertical-align: top;\n",
       "    }\n",
       "\n",
       "    .dataframe thead th {\n",
       "        text-align: right;\n",
       "    }\n",
       "</style>\n",
       "<table border=\"1\" class=\"dataframe\">\n",
       "  <thead>\n",
       "    <tr style=\"text-align: right;\">\n",
       "      <th></th>\n",
       "      <th>Tipo</th>\n",
       "      <th>Descripcion</th>\n",
       "      <th>Habitaciones</th>\n",
       "      <th>Banos</th>\n",
       "      <th>Area</th>\n",
       "      <th>Barrio</th>\n",
       "      <th>UPZ</th>\n",
       "      <th>Precio</th>\n",
       "    </tr>\n",
       "  </thead>\n",
       "  <tbody>\n",
       "    <tr>\n",
       "      <th>1283</th>\n",
       "      <td>Casa</td>\n",
       "      <td>Casa en venta en Modelia</td>\n",
       "      <td>8</td>\n",
       "      <td>4</td>\n",
       "      <td>236</td>\n",
       "      <td>Modelia</td>\n",
       "      <td>Fontibón</td>\n",
       "      <td>1.120000e+09</td>\n",
       "    </tr>\n",
       "    <tr>\n",
       "      <th>2147</th>\n",
       "      <td>Casa</td>\n",
       "      <td>Casa en venta en Modelia</td>\n",
       "      <td>5</td>\n",
       "      <td>4</td>\n",
       "      <td>320</td>\n",
       "      <td>Modelia</td>\n",
       "      <td>Fontibón</td>\n",
       "      <td>7.500000e+08</td>\n",
       "    </tr>\n",
       "    <tr>\n",
       "      <th>2257</th>\n",
       "      <td>Casa</td>\n",
       "      <td>Casa en venta en Modelia</td>\n",
       "      <td>5</td>\n",
       "      <td>4</td>\n",
       "      <td>244</td>\n",
       "      <td>Modelia</td>\n",
       "      <td>Fontibón</td>\n",
       "      <td>9.500000e+08</td>\n",
       "    </tr>\n",
       "    <tr>\n",
       "      <th>4913</th>\n",
       "      <td>Casa</td>\n",
       "      <td>Casa en venta en Modelia</td>\n",
       "      <td>5</td>\n",
       "      <td>4</td>\n",
       "      <td>320</td>\n",
       "      <td>Modelia</td>\n",
       "      <td>Fontibón</td>\n",
       "      <td>7.500000e+08</td>\n",
       "    </tr>\n",
       "    <tr>\n",
       "      <th>4914</th>\n",
       "      <td>Casa</td>\n",
       "      <td>Casa en venta en Modelia</td>\n",
       "      <td>5</td>\n",
       "      <td>4</td>\n",
       "      <td>320</td>\n",
       "      <td>Modelia</td>\n",
       "      <td>Fontibón</td>\n",
       "      <td>7.500000e+08</td>\n",
       "    </tr>\n",
       "    <tr>\n",
       "      <th>5059</th>\n",
       "      <td>Casa</td>\n",
       "      <td>Casa en venta en Modelia</td>\n",
       "      <td>7</td>\n",
       "      <td>6</td>\n",
       "      <td>287</td>\n",
       "      <td>Modelia</td>\n",
       "      <td>Fontibón</td>\n",
       "      <td>7.500000e+08</td>\n",
       "    </tr>\n",
       "    <tr>\n",
       "      <th>7073</th>\n",
       "      <td>Casa</td>\n",
       "      <td>Casa en venta en Modelia</td>\n",
       "      <td>4</td>\n",
       "      <td>3</td>\n",
       "      <td>166243</td>\n",
       "      <td>Modelia</td>\n",
       "      <td>Fontibón</td>\n",
       "      <td>8.500000e+08</td>\n",
       "    </tr>\n",
       "    <tr>\n",
       "      <th>7908</th>\n",
       "      <td>Casa</td>\n",
       "      <td>Casa en venta en Modelia</td>\n",
       "      <td>3</td>\n",
       "      <td>3</td>\n",
       "      <td>275</td>\n",
       "      <td>Modelia</td>\n",
       "      <td>Fontibón</td>\n",
       "      <td>8.500000e+08</td>\n",
       "    </tr>\n",
       "    <tr>\n",
       "      <th>8562</th>\n",
       "      <td>Casa</td>\n",
       "      <td>Casa en venta en Modelia</td>\n",
       "      <td>5</td>\n",
       "      <td>4</td>\n",
       "      <td>400</td>\n",
       "      <td>Modelia</td>\n",
       "      <td>Fontibón</td>\n",
       "      <td>9.500000e+08</td>\n",
       "    </tr>\n",
       "    <tr>\n",
       "      <th>9326</th>\n",
       "      <td>Casa</td>\n",
       "      <td>Casa en venta en Modelia</td>\n",
       "      <td>5</td>\n",
       "      <td>3</td>\n",
       "      <td>270</td>\n",
       "      <td>Modelia</td>\n",
       "      <td>Fontibón</td>\n",
       "      <td>1.100000e+09</td>\n",
       "    </tr>\n",
       "  </tbody>\n",
       "</table>\n",
       "</div>"
      ],
      "text/plain": [
       "      Tipo               Descripcion  Habitaciones  Banos    Area   Barrio  \\\n",
       "1283  Casa  Casa en venta en Modelia             8      4     236  Modelia   \n",
       "2147  Casa  Casa en venta en Modelia             5      4     320  Modelia   \n",
       "2257  Casa  Casa en venta en Modelia             5      4     244  Modelia   \n",
       "4913  Casa  Casa en venta en Modelia             5      4     320  Modelia   \n",
       "4914  Casa  Casa en venta en Modelia             5      4     320  Modelia   \n",
       "5059  Casa  Casa en venta en Modelia             7      6     287  Modelia   \n",
       "7073  Casa  Casa en venta en Modelia             4      3  166243  Modelia   \n",
       "7908  Casa  Casa en venta en Modelia             3      3     275  Modelia   \n",
       "8562  Casa  Casa en venta en Modelia             5      4     400  Modelia   \n",
       "9326  Casa  Casa en venta en Modelia             5      3     270  Modelia   \n",
       "\n",
       "           UPZ        Precio  \n",
       "1283  Fontibón  1.120000e+09  \n",
       "2147  Fontibón  7.500000e+08  \n",
       "2257  Fontibón  9.500000e+08  \n",
       "4913  Fontibón  7.500000e+08  \n",
       "4914  Fontibón  7.500000e+08  \n",
       "5059  Fontibón  7.500000e+08  \n",
       "7073  Fontibón  8.500000e+08  \n",
       "7908  Fontibón  8.500000e+08  \n",
       "8562  Fontibón  9.500000e+08  \n",
       "9326  Fontibón  1.100000e+09  "
      ]
     },
     "execution_count": 205,
     "metadata": {},
     "output_type": "execute_result"
    }
   ],
   "source": [
    "df_inmuebles[(df_inmuebles['Area'] > 224) & (df_inmuebles['Barrio'] == 'Modelia')]"
   ]
  }
 ],
 "metadata": {
  "kernelspec": {
   "display_name": "Python 3.8.3 64-bit",
   "language": "python",
   "name": "python3"
  },
  "language_info": {
   "codemirror_mode": {
    "name": "ipython",
    "version": 3
   },
   "file_extension": ".py",
   "mimetype": "text/x-python",
   "name": "python",
   "nbconvert_exporter": "python",
   "pygments_lexer": "ipython3",
   "version": "3.8.3"
  },
  "orig_nbformat": 4,
  "vscode": {
   "interpreter": {
    "hash": "aee8b7b246df8f9039afb4144a1f6fd8d2ca17a180786b69acc140d282b71a49"
   }
  }
 },
 "nbformat": 4,
 "nbformat_minor": 2
}
